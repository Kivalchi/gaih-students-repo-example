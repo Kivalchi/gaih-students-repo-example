{
 "cells": [
  {
   "cell_type": "markdown",
   "metadata": {},
   "source": [
    "Nwanya Chinedu\n",
    "\n",
    "Final Project"
   ]
  },
  {
   "cell_type": "markdown",
   "metadata": {},
   "source": [
    "- Company Management System. Determine the names and ages of employees, company managers and the languages they can speak. Then write a program that will print the language that any of the employees can speak. In this project, complete the project by creating two classes named employees and manager"
   ]
  },
  {
   "cell_type": "code",
   "execution_count": 9,
   "metadata": {},
   "outputs": [],
   "source": [
    "class employee():\n",
    "    def __init__(self, name, age):\n",
    "        self.name = name\n",
    "        self.age = age\n",
    "        self.language = []\n",
    "          \n",
    "    def welcomePerson(self):\n",
    "        print(\"Hello\",self.name)\n",
    "    \n",
    "    def showAge(self):\n",
    "        print(self.age)\n",
    "        \n",
    "    def addlanguage(self,new_lang):\n",
    "        print(\"Adding new language\")\n",
    "        self.language.append(new_lang)\n",
    "        \n",
    "    def showInfo(self):\n",
    "        print(\"{} is {} years old\".format(self.name,self.age))\n",
    "        print(\"He can speak:\")\n",
    "        for i in self.language:\n",
    "              print(i)\n",
    "             \n",
    "                \n",
    "class manager(employee):\n",
    "    pass\n",
    "    \n",
    "    def __init__(self, department, language):\n",
    "        self.department = department\n",
    "        self.language = language\n",
    "        \n",
    "    def showInfo(self):\n",
    "        print(\"{} manager can speak {} \".format(self.department,self.language))\n",
    "\n",
    "             "
   ]
  },
  {
   "cell_type": "code",
   "execution_count": 10,
   "metadata": {},
   "outputs": [],
   "source": [
    "Roxy = employee(\"Roxy\", 30)\n",
    "Vanya = manager(\"Sales Department\", \"French\")"
   ]
  },
  {
   "cell_type": "code",
   "execution_count": 11,
   "metadata": {},
   "outputs": [
    {
     "data": {
      "text/plain": [
       "<__main__.employee at 0x1da9d4452e8>"
      ]
     },
     "execution_count": 11,
     "metadata": {},
     "output_type": "execute_result"
    }
   ],
   "source": [
    "Roxy"
   ]
  },
  {
   "cell_type": "code",
   "execution_count": 12,
   "metadata": {},
   "outputs": [
    {
     "data": {
      "text/plain": [
       "<__main__.manager at 0x1da9d445080>"
      ]
     },
     "execution_count": 12,
     "metadata": {},
     "output_type": "execute_result"
    }
   ],
   "source": [
    "Vanya"
   ]
  },
  {
   "cell_type": "code",
   "execution_count": 13,
   "metadata": {},
   "outputs": [
    {
     "name": "stdout",
     "output_type": "stream",
     "text": [
      "Hello Roxy\n"
     ]
    }
   ],
   "source": [
    "Roxy.welcomePerson()"
   ]
  },
  {
   "cell_type": "code",
   "execution_count": 14,
   "metadata": {},
   "outputs": [
    {
     "name": "stdout",
     "output_type": "stream",
     "text": [
      "Adding new language\n"
     ]
    }
   ],
   "source": [
    "Roxy.addlanguage(\"English\")"
   ]
  },
  {
   "cell_type": "code",
   "execution_count": 15,
   "metadata": {},
   "outputs": [
    {
     "name": "stdout",
     "output_type": "stream",
     "text": [
      "Roxy is 30 years old\n",
      "He can speak:\n",
      "English\n"
     ]
    }
   ],
   "source": [
    "Roxy.showInfo()"
   ]
  },
  {
   "cell_type": "code",
   "execution_count": 16,
   "metadata": {},
   "outputs": [
    {
     "name": "stdout",
     "output_type": "stream",
     "text": [
      "Sales Department manager can speak French \n"
     ]
    }
   ],
   "source": [
    "Vanya.showInfo()"
   ]
  },
  {
   "cell_type": "code",
   "execution_count": null,
   "metadata": {},
   "outputs": [],
   "source": []
  }
 ],
 "metadata": {
  "kernelspec": {
   "display_name": "Python 3",
   "language": "python",
   "name": "python3"
  },
  "language_info": {
   "codemirror_mode": {
    "name": "ipython",
    "version": 3
   },
   "file_extension": ".py",
   "mimetype": "text/x-python",
   "name": "python",
   "nbconvert_exporter": "python",
   "pygments_lexer": "ipython3",
   "version": "3.7.3"
  }
 },
 "nbformat": 4,
 "nbformat_minor": 2
}
