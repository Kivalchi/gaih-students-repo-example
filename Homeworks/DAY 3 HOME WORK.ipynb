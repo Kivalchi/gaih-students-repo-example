{
 "cells": [
  {
   "cell_type": "markdown",
   "metadata": {},
   "source": [
    "Nwanya Chinedu\n",
    "\n",
    "Day 3 Home Work\n",
    "\n",
    "User login application\n",
    "- Get Username and Password values from the user\n",
    "- Check the values in an if statement and tell the user if they were successful"
   ]
  },
  {
   "cell_type": "code",
   "execution_count": 1,
   "metadata": {},
   "outputs": [
    {
     "name": "stdout",
     "output_type": "stream",
     "text": [
      "**************Login Page**************\n",
      "Please enter your user name: nwanya\n",
      "Please enter your password: chinedu\n",
      "Login successful...\n"
     ]
    }
   ],
   "source": [
    "print(\"**************Login Page**************\")\n",
    "\n",
    "user_name = \"nwanya\"\n",
    "password =\"chinedu\"\n",
    "\n",
    "user_name1 =input(\"Please enter your user name: \")\n",
    "\n",
    "password1= input(\"Please enter your password: \")\n",
    "\n",
    "if (user_name != user_name1 and password == password1):\n",
    "    print(\"Invalid user name\")\n",
    "elif (user_name==user_name1 and password != password1):\n",
    "    print(\"Invalid Password\")\n",
    "elif (user_name != user_name1 and password!= password1):\n",
    "    print(\"Invalid user name and password\")\n",
    "else:\n",
    "    print(\"Login successful...\")\n",
    "    "
   ]
  },
  {
   "cell_type": "code",
   "execution_count": 10,
   "metadata": {},
   "outputs": [
    {
     "name": "stdout",
     "output_type": "stream",
     "text": [
      "**************Login Page**************\n",
      "{'user_name': 'nwanya', 'password': 'chinedu'}\n",
      "Please enter your user name: nwanya\n",
      "Please enter your password: chinedu\n",
      "Login successful...\n"
     ]
    }
   ],
   "source": [
    "print(\"**************Login Page**************\")\n",
    "\n",
    "my_dictionary = {\"user_name\":\"nwanya\", \"password\":\"chinedu\"}\n",
    "print(my_dictionary)\n",
    "\n",
    "user_name =input(\"Please enter your user name: \")\n",
    "\n",
    "password= input(\"Please enter your password: \")\n",
    "\n",
    "if (user_name != user_name1 and password == password1):\n",
    "    print(\"Invalid user name\")\n",
    "elif (user_name==user_name1 and password != password1):\n",
    "    print(\"Invalid Password\")\n",
    "elif (user_name != user_name1 and password!= password1):\n",
    "    print(\"Invalid user name and password\")\n",
    "else:\n",
    "    print(\"Login successful...\")"
   ]
  },
  {
   "cell_type": "code",
   "execution_count": null,
   "metadata": {},
   "outputs": [],
   "source": []
  }
 ],
 "metadata": {
  "kernelspec": {
   "display_name": "Python 3",
   "language": "python",
   "name": "python3"
  },
  "language_info": {
   "codemirror_mode": {
    "name": "ipython",
    "version": 3
   },
   "file_extension": ".py",
   "mimetype": "text/x-python",
   "name": "python",
   "nbconvert_exporter": "python",
   "pygments_lexer": "ipython3",
   "version": "3.7.3"
  }
 },
 "nbformat": 4,
 "nbformat_minor": 2
}
