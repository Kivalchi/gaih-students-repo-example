{
 "cells": [
  {
   "cell_type": "markdown",
   "metadata": {},
   "source": [
    "Nwanya Chinedu\n",
    "\n",
    "Day 2 Home Work"
   ]
  },
  {
   "cell_type": "markdown",
   "metadata": {},
   "source": [
    "- Create three classes name Animals, Dogs and cats. Add some features to these classes. Create some functions with these attributes. Dont forget! You have to do it using inherice"
   ]
  },
  {
   "cell_type": "code",
   "execution_count": 31,
   "metadata": {},
   "outputs": [
    {
     "name": "stdout",
     "output_type": "stream",
     "text": [
      "wild\n",
      "fish\n"
     ]
    }
   ],
   "source": [
    "class animal():\n",
    "    def __init__(self, home, feed, sound):\n",
    "        self.home = home\n",
    "        self.feed = feed\n",
    "        self.sound = sound\n",
    "    \n",
    "    def print_sound(self):\n",
    "        print(\"The dog \" + self.sound)\n",
    "        \n",
    "    def print_feed(self):\n",
    "        print(\"They feed on \" + self.feed)\n",
    "        \n",
    "dog = animal(\"domestic\", \"bone\", \"bark\")\n",
    "\n",
    "cat = animal(\"wild\", \"fish\", \"meow\")\n",
    "\n",
    "print(cat.home)\n",
    "print(cat.feed)    \n",
    "\n"
   ]
  },
  {
   "cell_type": "code",
   "execution_count": 32,
   "metadata": {},
   "outputs": [
    {
     "name": "stdout",
     "output_type": "stream",
     "text": [
      "The dog bark\n",
      "They feed on bone\n"
     ]
    }
   ],
   "source": [
    "class dog(animal):\n",
    "    pass\n",
    "\n",
    "dog1 = dog(\"domestic\", \"bone\", \"bark\")\n",
    "dog1.print_sound()\n",
    "dog1.print_feed()"
   ]
  },
  {
   "cell_type": "code",
   "execution_count": null,
   "metadata": {},
   "outputs": [],
   "source": []
  }
 ],
 "metadata": {
  "kernelspec": {
   "display_name": "Python 3",
   "language": "python",
   "name": "python3"
  },
  "language_info": {
   "codemirror_mode": {
    "name": "ipython",
    "version": 3
   },
   "file_extension": ".py",
   "mimetype": "text/x-python",
   "name": "python",
   "nbconvert_exporter": "python",
   "pygments_lexer": "ipython3",
   "version": "3.7.3"
  }
 },
 "nbformat": 4,
 "nbformat_minor": 2
}
