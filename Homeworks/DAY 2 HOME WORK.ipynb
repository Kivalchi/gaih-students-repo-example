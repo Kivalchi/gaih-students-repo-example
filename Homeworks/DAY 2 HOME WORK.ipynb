{
 "cells": [
  {
   "cell_type": "markdown",
   "metadata": {},
   "source": [
    "Nwanya Chinedu\n",
    "\n",
    "Day 2 Home Work"
   ]
  },
  {
   "cell_type": "markdown",
   "metadata": {},
   "source": [
    "1. Create a list and swap the second half of the list with the first half and print this list on a screen"
   ]
  },
  {
   "cell_type": "code",
   "execution_count": 2,
   "metadata": {},
   "outputs": [
    {
     "name": "stdout",
     "output_type": "stream",
     "text": [
      "6 7 8 3 4 5\n"
     ]
    }
   ],
   "source": [
    "my_list = [3,4,5,6,7,8]\n",
    "\n",
    "#swapping\n",
    "\n",
    "data1 = 3\n",
    "data2 = 4\n",
    "data3 = 5\n",
    "data4 = 6\n",
    "data5 = 7\n",
    "data6 = 8\n",
    "\n",
    "data1, data2, data3, data4, data5, data6 = data4, data5, data6, data1, data2, data3\n",
    "print(data1, data2, data3, data4, data5, data6)"
   ]
  },
  {
   "cell_type": "markdown",
   "metadata": {},
   "source": [
    "2. Ask the user to input a single digit integer to a variable \"n\" then print out all the even number from 0 to n (including n)"
   ]
  },
  {
   "cell_type": "code",
   "execution_count": 69,
   "metadata": {},
   "outputs": [
    {
     "name": "stdout",
     "output_type": "stream",
     "text": [
      "Please enter a single digit integer: 9\n",
      "[0, 2, 4, 6, 8]\n"
     ]
    }
   ],
   "source": [
    "n = int(input(\"Please enter a single digit integer: \"))\n",
    "\n",
    "if 0 < n <= 9:\n",
    "    n = list(range(n+1))\n",
    "\n",
    "    even = [n for n in n if n % 2 == 0]\n",
    "    print(even)\n",
    "\n",
    "else:\n",
    "    print(\"value: not an Integer\" )"
   ]
  },
  {
   "cell_type": "code",
   "execution_count": null,
   "metadata": {},
   "outputs": [],
   "source": []
  },
  {
   "cell_type": "code",
   "execution_count": null,
   "metadata": {},
   "outputs": [],
   "source": []
  },
  {
   "cell_type": "code",
   "execution_count": null,
   "metadata": {},
   "outputs": [],
   "source": []
  },
  {
   "cell_type": "code",
   "execution_count": null,
   "metadata": {},
   "outputs": [],
   "source": []
  }
 ],
 "metadata": {
  "kernelspec": {
   "display_name": "Python 3",
   "language": "python",
   "name": "python3"
  },
  "language_info": {
   "codemirror_mode": {
    "name": "ipython",
    "version": 3
   },
   "file_extension": ".py",
   "mimetype": "text/x-python",
   "name": "python",
   "nbconvert_exporter": "python",
   "pygments_lexer": "ipython3",
   "version": "3.7.3"
  }
 },
 "nbformat": 4,
 "nbformat_minor": 2
}
